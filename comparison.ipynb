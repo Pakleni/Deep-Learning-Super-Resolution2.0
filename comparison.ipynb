{
  "cells": [
    {
      "cell_type": "code",
      "execution_count": null,
      "metadata": {},
      "outputs": [],
      "source": [
        "import tensorflow as tf\n",
        "import numpy as np\n",
        "\n",
        "\n",
        "def round(x):\n",
        "    return \"%.2f\" % np.round(x.numpy(), 2)\n",
        "\n",
        "\n",
        "def SSIM(a, b):\n",
        "    return round(tf.image.ssim(a, b, 255))\n",
        "\n",
        "\n",
        "def PSNR(a, b):\n",
        "    return round(tf.image.psnr(a, b, 255))"
      ]
    },
    {
      "cell_type": "code",
      "execution_count": null,
      "metadata": {},
      "outputs": [],
      "source": [
        "# Get validation images\n",
        "\n",
        "from dlsr import *\n",
        "from dlsr.data import DIV2K\n",
        "\n",
        "# from PIL import Image\n",
        "\n",
        "image_size = 400\n",
        "loader = DIV2K(type=\"valid\")\n",
        "ds = loader.dataset(\n",
        "    batch_size=1, random_transform=False, crop_images=True, image_size=image_size\n",
        ")\n",
        "\n",
        "hr = ds.map(lambda a, b: b).take(7)\n",
        "lr = ds.map(lambda a, b: a).take(7)\n",
        "\n",
        "upscaled = {}"
      ]
    },
    {
      "cell_type": "code",
      "execution_count": null,
      "metadata": {},
      "outputs": [],
      "source": [
        "# # Upscale with my SRGAN\n",
        "\n",
        "discriminator = tf.keras.models.load_model(\n",
        "    \"./saved-models/srgan/discriminator.h5\",\n",
        "    custom_objects=losses.get_custom_objects(),\n",
        ")\n",
        "\n",
        "model = tf.keras.models.load_model(\n",
        "    \"./saved-models/srgan/generator.h5\",\n",
        "    custom_objects=losses.get_custom_objects(discriminator),\n",
        ")\n",
        "\n",
        "upscaled[\"srgan\"] = upscale(model, lr)"
      ]
    },
    {
      "cell_type": "code",
      "execution_count": null,
      "metadata": {},
      "outputs": [],
      "source": [
        "# Upscale with Interploation-Based methods\n",
        "\n",
        "lr_transformed = [np.uint8(x)[0] for x in lr]\n",
        "\n",
        "new_size = [image_size, image_size]\n",
        "\n",
        "algs = [\n",
        "    tf.image.ResizeMethod.NEAREST_NEIGHBOR,\n",
        "    tf.image.ResizeMethod.BILINEAR,\n",
        "    tf.image.ResizeMethod.BICUBIC,\n",
        "    tf.image.ResizeMethod.LANCZOS3,\n",
        "]\n",
        "\n",
        "for alg in algs:\n",
        "    upscaled[alg] = tf.image.resize(\n",
        "        lr_transformed,\n",
        "        new_size,\n",
        "        method=alg,\n",
        "    )"
      ]
    },
    {
      "cell_type": "code",
      "execution_count": null,
      "metadata": {},
      "outputs": [],
      "source": [
        "# save LR images\n",
        "for i, x in enumerate(lr):\n",
        "    tf.keras.utils.save_img(path=f\"output/lr/image{i}.png\", x=x[0], file_format=\"png\")\n",
        "\n",
        "# save HR images\n",
        "for i, x in enumerate(hr):\n",
        "    tf.keras.utils.save_img(path=f\"output/hr/image{i}.png\", x=x[0], file_format=\"png\")\n",
        "\n",
        "# save upscaled images\n",
        "for key in upscaled.keys():\n",
        "    for i, x in enumerate(upscaled[key]):\n",
        "        tf.keras.utils.save_img(\n",
        "            path=f\"output/{key}/image{i}.png\", x=x, file_format=\"png\"\n",
        "        )\n",
        "\n",
        "# calculate SSIM/PSNR\n",
        "for i, x in enumerate(hr):\n",
        "    real = np.uint8(x)[0]\n",
        "    print(\"-------------------------------------\")\n",
        "    for j, key in enumerate(upscaled.keys()):\n",
        "        fake = np.uint8(upscaled[key][i])\n",
        "        print(\n",
        "            \"| {:<4} | {:<10} | {:<4} = {:<6} |\".format(\n",
        "                f\"img{i}\" if j == 0 else \"\", f\"{key}\", \"SSIM\", SSIM(real, fake)\n",
        "            )\n",
        "        )\n",
        "        print(\"| {:<4} | {:<10} | {:<4} = {:<6} |\".format(\"\", \"\", \"PSNR\", PSNR(real, fake)))"
      ]
    }
  ],
  "metadata": {
    "kernelspec": {
      "display_name": "Python 3.10.9 64-bit ('3.10.9')",
      "language": "python",
      "name": "python3"
    },
    "language_info": {
      "codemirror_mode": {
        "name": "ipython",
        "version": 3
      },
      "file_extension": ".py",
      "mimetype": "text/x-python",
      "name": "python",
      "nbconvert_exporter": "python",
      "pygments_lexer": "ipython3",
      "version": "3.10.9"
    },
    "orig_nbformat": 4,
    "vscode": {
      "interpreter": {
        "hash": "454bfa2268f60655e0471403332de354819c117d45f42e0939fe7b364f99b4e7"
      }
    }
  },
  "nbformat": 4,
  "nbformat_minor": 2
}
