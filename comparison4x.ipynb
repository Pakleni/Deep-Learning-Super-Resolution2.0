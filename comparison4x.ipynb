{
  "cells": [
    {
      "cell_type": "code",
      "execution_count": 1,
      "metadata": {},
      "outputs": [],
      "source": [
        "import tensorflow as tf\n",
        "import numpy as np\n",
        "\n",
        "\n",
        "def round(x):\n",
        "    return \"%.2f\" % np.round(x.numpy(), 2)\n",
        "\n",
        "\n",
        "def SSIM(a, b):\n",
        "    return round(tf.image.ssim(a, b, 255))\n",
        "\n",
        "\n",
        "def PSNR(a, b):\n",
        "    return round(tf.image.psnr(a, b, 255))"
      ]
    },
    {
      "cell_type": "code",
      "execution_count": 2,
      "metadata": {},
      "outputs": [
        {
          "name": "stdout",
          "output_type": "stream",
          "text": [
            "Downloading data from http://data.vision.ee.ethz.ch/cvl/DIV2K/DIV2K_valid_LR_bicubic_X4.zip\n",
            "31505881/31505881 [==============================] - 1s 0us/step\n",
            "Metal device set to: Apple M1\n",
            "\n",
            "systemMemory: 8.00 GB\n",
            "maxCacheSize: 2.67 GB\n",
            "\n",
            "WARNING:tensorflow:From /Users/ognjenbjeletic/.pyenv/versions/3.10.9/lib/python3.10/site-packages/tensorflow/python/autograph/pyct/static_analysis/liveness.py:83: Analyzer.lamba_check (from tensorflow.python.autograph.pyct.static_analysis.liveness) is deprecated and will be removed after 2023-09-23.\n",
            "Instructions for updating:\n",
            "Lambda fuctions will be no more assumed to be used in the statement where they are used, or at least in the same block. https://github.com/tensorflow/tensorflow/issues/56089\n"
          ]
        },
        {
          "name": "stderr",
          "output_type": "stream",
          "text": [
            "2023-02-09 16:39:59.542097: I tensorflow/core/common_runtime/pluggable_device/pluggable_device_factory.cc:306] Could not identify NUMA node of platform GPU ID 0, defaulting to 0. Your kernel may not have been built with NUMA support.\n",
            "2023-02-09 16:39:59.542116: I tensorflow/core/common_runtime/pluggable_device/pluggable_device_factory.cc:272] Created TensorFlow device (/job:localhost/replica:0/task:0/device:GPU:0 with 0 MB memory) -> physical PluggableDevice (device: 0, name: METAL, pci bus id: <undefined>)\n"
          ]
        }
      ],
      "source": [
        "# Get validation images\n",
        "\n",
        "from dlsr import *\n",
        "from dlsr.data import DIV2K\n",
        "\n",
        "# from PIL import Image\n",
        "\n",
        "image_size = 400\n",
        "loader = DIV2K(type=\"valid\", scale=4)\n",
        "ds = loader.dataset(\n",
        "    batch_size=1, random_transform=False, crop_images=True, image_size=image_size\n",
        ")\n",
        "\n",
        "hr = ds.map(lambda a, b: b).take(7).cache()\n",
        "lr = ds.map(lambda a, b: a).take(7).cache()\n",
        "\n",
        "upscaled = {}"
      ]
    },
    {
      "cell_type": "code",
      "execution_count": 3,
      "metadata": {},
      "outputs": [
        {
          "name": "stderr",
          "output_type": "stream",
          "text": [
            "2023-02-09 16:40:00.877623: W tensorflow/tsl/platform/profile_utils/cpu_utils.cc:128] Failed to get CPU frequency: 0 Hz\n",
            "2023-02-09 16:40:01.111818: I tensorflow/core/grappler/optimizers/custom_graph_optimizer_registry.cc:114] Plugin optimizer for device_type GPU is enabled.\n",
            "2023-02-09 16:40:01.472163: W tensorflow/core/kernels/data/cache_dataset_ops.cc:856] The calling iterator did not fully read the dataset being cached. In order to avoid unexpected truncation of the dataset, the partially cached contents of the dataset  will be discarded. This can happen if you have an input pipeline similar to `dataset.cache().take(k).repeat()`. You should use `dataset.take(k).cache().repeat()` instead.\n",
            "2023-02-09 16:40:01.533456: W tensorflow/core/kernels/data/cache_dataset_ops.cc:856] The calling iterator did not fully read the dataset being cached. In order to avoid unexpected truncation of the dataset, the partially cached contents of the dataset  will be discarded. This can happen if you have an input pipeline similar to `dataset.cache().take(k).repeat()`. You should use `dataset.take(k).cache().repeat()` instead.\n"
          ]
        },
        {
          "name": "stdout",
          "output_type": "stream",
          "text": [
            "7/7 [==============================] - 2s 134ms/step\n"
          ]
        },
        {
          "name": "stderr",
          "output_type": "stream",
          "text": [
            "2023-02-09 16:40:03.608544: I tensorflow/core/grappler/optimizers/custom_graph_optimizer_registry.cc:114] Plugin optimizer for device_type GPU is enabled.\n"
          ]
        },
        {
          "name": "stdout",
          "output_type": "stream",
          "text": [
            "7/7 [==============================] - 2s 136ms/step\n"
          ]
        },
        {
          "name": "stderr",
          "output_type": "stream",
          "text": [
            "2023-02-09 16:40:06.293753: I tensorflow/core/grappler/optimizers/custom_graph_optimizer_registry.cc:114] Plugin optimizer for device_type GPU is enabled.\n"
          ]
        },
        {
          "name": "stdout",
          "output_type": "stream",
          "text": [
            "7/7 [==============================] - 1s 56ms/step\n",
            "1/1 [==============================] - 0s 487ms/step\n"
          ]
        },
        {
          "name": "stderr",
          "output_type": "stream",
          "text": [
            "2023-02-09 16:40:09.702570: I tensorflow/core/grappler/optimizers/custom_graph_optimizer_registry.cc:114] Plugin optimizer for device_type GPU is enabled.\n"
          ]
        },
        {
          "name": "stdout",
          "output_type": "stream",
          "text": [
            "7/7 [==============================] - 1s 49ms/step\n",
            "1/1 [==============================] - 0s 389ms/step\n"
          ]
        }
      ],
      "source": [
        "# # Upscale with my SRResNet x4\n",
        "\n",
        "model = tf.keras.models.load_model(\n",
        "    \"./results/saved-models/srres4x.h5\",\n",
        ")\n",
        "\n",
        "upscaled[\"srres4x\"] = upscale(model, lr)\n",
        "\n",
        "del model\n",
        "# Upscale with my SRGAN x4\n",
        "\n",
        "# load json and create model\n",
        "json_file = open('./results/saved-models/srgan4x/architecture.json', 'r')\n",
        "loaded_model_json = json_file.read()\n",
        "json_file.close()\n",
        "model = tf.keras.models.model_from_json(loaded_model_json)\n",
        "# load weights into new model\n",
        "model.load_weights(\"./results/saved-models/srgan4x/generator.h5\")\n",
        "\n",
        "upscaled[\"srgan4x\"] = upscale(model, lr)\n",
        "\n",
        "del model\n",
        "\n",
        "# Upscale with my SrResNet x2\n",
        "\n",
        "model = tf.keras.models.load_model(\n",
        "    \"./results/saved-models/srres2x.h5\",\n",
        ")\n",
        "\n",
        "temp = upscale(model, lr)\n",
        "temp = tf.data.Dataset.from_tensors(temp)\n",
        "upscaled[\"srres2x\"] = upscale(model, temp)\n",
        "del model\n",
        "\n",
        "# Upscale with my SRGAN x2\n",
        "\n",
        "# load json and create model\n",
        "json_file = open('./results/saved-models/srgan2x/architecture.json', 'r')\n",
        "loaded_model_json = json_file.read()\n",
        "json_file.close()\n",
        "model = tf.keras.models.model_from_json(loaded_model_json)\n",
        "# load weights into new model\n",
        "model.load_weights(\"./results/saved-models/srgan2x/generator.h5\")\n",
        "\n",
        "temp = upscale(model, lr)\n",
        "temp = tf.data.Dataset.from_tensors(temp)\n",
        "upscaled[\"srgan2x\"] = upscale(model, temp)\n",
        "\n",
        "del model"
      ]
    },
    {
      "cell_type": "code",
      "execution_count": 4,
      "metadata": {},
      "outputs": [],
      "source": [
        "# Upscale with Interploation-Based methods\n",
        "\n",
        "lr_transformed = [np.uint8(x)[0] for x in lr]\n",
        "\n",
        "new_size = [image_size, image_size]\n",
        "\n",
        "algs = [\n",
        "    tf.image.ResizeMethod.NEAREST_NEIGHBOR,\n",
        "    tf.image.ResizeMethod.BILINEAR,\n",
        "    tf.image.ResizeMethod.BICUBIC,\n",
        "    tf.image.ResizeMethod.LANCZOS3,\n",
        "]\n",
        "\n",
        "for alg in algs:\n",
        "    upscaled[alg] = tf.image.resize(\n",
        "        lr_transformed,\n",
        "        new_size,\n",
        "        method=alg,\n",
        "    )"
      ]
    },
    {
      "cell_type": "code",
      "execution_count": 5,
      "metadata": {},
      "outputs": [
        {
          "name": "stderr",
          "output_type": "stream",
          "text": [
            "2023-02-09 16:40:13.152521: W tensorflow/core/kernels/data/cache_dataset_ops.cc:856] The calling iterator did not fully read the dataset being cached. In order to avoid unexpected truncation of the dataset, the partially cached contents of the dataset  will be discarded. This can happen if you have an input pipeline similar to `dataset.cache().take(k).repeat()`. You should use `dataset.take(k).cache().repeat()` instead.\n",
            "2023-02-09 16:40:13.158743: W tensorflow/core/kernels/data/cache_dataset_ops.cc:856] The calling iterator did not fully read the dataset being cached. In order to avoid unexpected truncation of the dataset, the partially cached contents of the dataset  will be discarded. This can happen if you have an input pipeline similar to `dataset.cache().take(k).repeat()`. You should use `dataset.take(k).cache().repeat()` instead.\n"
          ]
        },
        {
          "name": "stdout",
          "output_type": "stream",
          "text": [
            "-------------------------------------\n",
            "| img0 | srres4x    | SSIM = 0.96   |\n",
            "|      |            | PSNR = 37.71  |\n",
            "|      | srgan4x    | SSIM = 0.93   |\n",
            "|      |            | PSNR = 33.83  |\n",
            "|      | srres2x    | SSIM = 0.96   |\n",
            "|      |            | PSNR = 38.08  |\n",
            "|      | srgan2x    | SSIM = 0.93   |\n",
            "|      |            | PSNR = 34.93  |\n",
            "|      | nearest    | SSIM = 0.82   |\n",
            "|      |            | PSNR = 30.28  |\n",
            "|      | bilinear   | SSIM = 0.92   |\n",
            "|      |            | PSNR = 33.24  |\n",
            "|      | bicubic    | SSIM = 0.94   |\n",
            "|      |            | PSNR = 35.28  |\n",
            "|      | lanczos3   | SSIM = 0.95   |\n",
            "|      |            | PSNR = 36.17  |\n",
            "-------------------------------------\n",
            "| img1 | srres4x    | SSIM = 0.90   |\n",
            "|      |            | PSNR = 36.22  |\n",
            "|      | srgan4x    | SSIM = 0.77   |\n",
            "|      |            | PSNR = 31.81  |\n",
            "|      | srres2x    | SSIM = 0.91   |\n",
            "|      |            | PSNR = 36.36  |\n",
            "|      | srgan2x    | SSIM = 0.72   |\n",
            "|      |            | PSNR = 30.68  |\n",
            "|      | nearest    | SSIM = 0.85   |\n",
            "|      |            | PSNR = 32.70  |\n",
            "|      | bilinear   | SSIM = 0.89   |\n",
            "|      |            | PSNR = 34.30  |\n",
            "|      | bicubic    | SSIM = 0.89   |\n",
            "|      |            | PSNR = 33.83  |\n",
            "|      | lanczos3   | SSIM = 0.89   |\n",
            "|      |            | PSNR = 32.05  |\n",
            "-------------------------------------\n",
            "| img2 | srres4x    | SSIM = 0.98   |\n",
            "|      |            | PSNR = 45.14  |\n",
            "|      | srgan4x    | SSIM = 0.94   |\n",
            "|      |            | PSNR = 36.15  |\n",
            "|      | srres2x    | SSIM = 0.98   |\n",
            "|      |            | PSNR = 46.29  |\n",
            "|      | srgan2x    | SSIM = 0.95   |\n",
            "|      |            | PSNR = 41.34  |\n",
            "|      | nearest    | SSIM = 0.97   |\n",
            "|      |            | PSNR = 44.77  |\n",
            "|      | bilinear   | SSIM = 0.98   |\n",
            "|      |            | PSNR = 45.96  |\n",
            "|      | bicubic    | SSIM = 0.98   |\n",
            "|      |            | PSNR = 46.23  |\n",
            "|      | lanczos3   | SSIM = 0.98   |\n",
            "|      |            | PSNR = 46.33  |\n",
            "-------------------------------------\n",
            "| img3 | srres4x    | SSIM = 0.87   |\n",
            "|      |            | PSNR = 27.58  |\n",
            "|      | srgan4x    | SSIM = 0.83   |\n",
            "|      |            | PSNR = 25.13  |\n",
            "|      | srres2x    | SSIM = 0.87   |\n",
            "|      |            | PSNR = 27.77  |\n",
            "|      | srgan2x    | SSIM = 0.78   |\n",
            "|      |            | PSNR = 25.04  |\n",
            "|      | nearest    | SSIM = 0.74   |\n",
            "|      |            | PSNR = 23.65  |\n",
            "|      | bilinear   | SSIM = 0.78   |\n",
            "|      |            | PSNR = 24.68  |\n",
            "|      | bicubic    | SSIM = 0.79   |\n",
            "|      |            | PSNR = 21.06  |\n",
            "|      | lanczos3   | SSIM = 0.79   |\n",
            "|      |            | PSNR = 20.55  |\n",
            "-------------------------------------\n",
            "| img4 | srres4x    | SSIM = 0.82   |\n",
            "|      |            | PSNR = 34.67  |\n",
            "|      | srgan4x    | SSIM = 0.67   |\n",
            "|      |            | PSNR = 31.29  |\n",
            "|      | srres2x    | SSIM = 0.82   |\n",
            "|      |            | PSNR = 34.71  |\n",
            "|      | srgan2x    | SSIM = 0.57   |\n",
            "|      |            | PSNR = 31.01  |\n",
            "|      | nearest    | SSIM = 0.78   |\n",
            "|      |            | PSNR = 33.50  |\n",
            "|      | bilinear   | SSIM = 0.81   |\n",
            "|      |            | PSNR = 34.45  |\n",
            "|      | bicubic    | SSIM = 0.81   |\n",
            "|      |            | PSNR = 34.25  |\n",
            "|      | lanczos3   | SSIM = 0.81   |\n",
            "|      |            | PSNR = 33.67  |\n",
            "-------------------------------------\n",
            "| img5 | srres4x    | SSIM = 0.98   |\n",
            "|      |            | PSNR = 42.37  |\n",
            "|      | srgan4x    | SSIM = 0.96   |\n",
            "|      |            | PSNR = 32.98  |\n",
            "|      | srres2x    | SSIM = 0.98   |\n",
            "|      |            | PSNR = 42.59  |\n",
            "|      | srgan2x    | SSIM = 0.94   |\n",
            "|      |            | PSNR = 37.71  |\n",
            "|      | nearest    | SSIM = 0.94   |\n",
            "|      |            | PSNR = 35.73  |\n",
            "|      | bilinear   | SSIM = 0.97   |\n",
            "|      |            | PSNR = 38.43  |\n",
            "|      | bicubic    | SSIM = 0.97   |\n",
            "|      |            | PSNR = 39.52  |\n",
            "|      | lanczos3   | SSIM = 0.98   |\n",
            "|      |            | PSNR = 40.02  |\n",
            "-------------------------------------\n",
            "| img6 | srres4x    | SSIM = 0.56   |\n",
            "|      |            | PSNR = 22.04  |\n",
            "|      | srgan4x    | SSIM = 0.42   |\n",
            "|      |            | PSNR = 20.12  |\n",
            "|      | srres2x    | SSIM = 0.57   |\n",
            "|      |            | PSNR = 22.05  |\n",
            "|      | srgan2x    | SSIM = 0.40   |\n",
            "|      |            | PSNR = 19.36  |\n",
            "|      | nearest    | SSIM = 0.46   |\n",
            "|      |            | PSNR = 20.96  |\n",
            "|      | bilinear   | SSIM = 0.47   |\n",
            "|      |            | PSNR = 21.20  |\n",
            "|      | bicubic    | SSIM = 0.49   |\n",
            "|      |            | PSNR = 21.33  |\n",
            "|      | lanczos3   | SSIM = 0.50   |\n",
            "|      |            | PSNR = 21.02  |\n"
          ]
        }
      ],
      "source": [
        "# save LR images\n",
        "for i, x in enumerate(lr):\n",
        "    tf.keras.utils.save_img(path=f\"results/comparison4x/lr/image{i}.png\", x=x[0], file_format=\"png\")\n",
        "\n",
        "# save HR images\n",
        "for i, x in enumerate(hr):\n",
        "    tf.keras.utils.save_img(path=f\"results/comparison4x/hr/image{i}.png\", x=x[0], file_format=\"png\")\n",
        "\n",
        "# save upscaled images\n",
        "for key in upscaled.keys():\n",
        "    for i, x in enumerate(upscaled[key]):\n",
        "        tf.keras.utils.save_img(\n",
        "            path=f\"results/comparison4x/{key}/image{i}.png\", x=x, file_format=\"png\"\n",
        "        )\n",
        "\n",
        "# calculate SSIM/PSNR\n",
        "for i, x in enumerate(hr):\n",
        "    real = np.uint8(x)[0]\n",
        "    print(\"-------------------------------------\")\n",
        "    for j, key in enumerate(upscaled.keys()):\n",
        "        fake = np.uint8(upscaled[key][i])\n",
        "        print(\n",
        "            \"| {:<4} | {:<10} | {:<4} = {:<6} |\".format(\n",
        "                f\"img{i}\" if j == 0 else \"\", f\"{key}\", \"SSIM\", SSIM(real, fake)\n",
        "            )\n",
        "        )\n",
        "        print(\"| {:<4} | {:<10} | {:<4} = {:<6} |\".format(\"\", \"\", \"PSNR\", PSNR(real, fake)))"
      ]
    }
  ],
  "metadata": {
    "kernelspec": {
      "display_name": "Python 3",
      "language": "python",
      "name": "python3"
    },
    "language_info": {
      "codemirror_mode": {
        "name": "ipython",
        "version": 3
      },
      "file_extension": ".py",
      "mimetype": "text/x-python",
      "name": "python",
      "nbconvert_exporter": "python",
      "pygments_lexer": "ipython3",
      "version": "3.10.9"
    },
    "orig_nbformat": 4,
    "vscode": {
      "interpreter": {
        "hash": "454bfa2268f60655e0471403332de354819c117d45f42e0939fe7b364f99b4e7"
      }
    }
  },
  "nbformat": 4,
  "nbformat_minor": 2
}
