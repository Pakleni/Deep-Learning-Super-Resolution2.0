{
  "cells": [
    {
      "cell_type": "code",
      "execution_count": null,
      "metadata": {},
      "outputs": [],
      "source": [
        "from dlsr import *\n",
        "from tensorflow import keras\n",
        "import tensorflow as tf\n",
        "\n",
        "helpers.config(True)"
      ]
    },
    {
      "cell_type": "code",
      "execution_count": null,
      "metadata": {},
      "outputs": [],
      "source": [
        "# general\n",
        "image_size = 96\n",
        "batch_size = 16\n",
        "epochs = 500\n",
        "\n",
        "# generator\n",
        "gen_n = 1e-4\n",
        "# discriminator\n",
        "dis_n = 1e-4"
      ]
    },
    {
      "cell_type": "code",
      "execution_count": null,
      "metadata": {},
      "outputs": [],
      "source": [
        "# setup training data\n",
        "training_data = helpers.get_training_data(\n",
        "    image_size=image_size, batch_size=batch_size, repeat_count=20, scale=4\n",
        ")"
      ]
    },
    {
      "cell_type": "code",
      "execution_count": null,
      "metadata": {},
      "outputs": [],
      "source": [
        "# create discriminator\n",
        "discriminator = models.discriminator(image_size=image_size)\n",
        "\n",
        "# load generator\n",
        "json_file = open('./results/saved-models/srgan4x/architecture.json', 'r')\n",
        "loaded_model_json = json_file.read()\n",
        "json_file.close()\n",
        "generator = tf.keras.models.model_from_json(loaded_model_json)\n",
        "generator.load_weights(\"./results/saved-models/srgan4x/generator.h5\")\n",
        "\n",
        "# create SRGAN\n",
        "srgan = models.SRGAN(discriminator=discriminator, generator=generator)\n",
        "\n",
        "# instantiate losses\n",
        "generator_loss = losses.PerceptualLoss(discriminator=discriminator, image_size=image_size)\n",
        "discriminator_loss = keras.losses.BinaryCrossentropy(from_logits=False)\n",
        "\n",
        "# create a history object\n",
        "history = helpers.History([\n",
        "    \"d_loss\",\n",
        "    \"g_loss\",\n",
        "    \"val_d_loss\",\n",
        "    \"val_g_loss\",\n",
        "    \"d_accuracy\",\n",
        "    \"g_accuracy\",\n",
        "    \"val_d_accuracy\",\n",
        "    \"val_g_accuracy\",\n",
        "])"
      ]
    },
    {
      "cell_type": "code",
      "execution_count": null,
      "metadata": {},
      "outputs": [],
      "source": [
        "train_gan(\n",
        "    srgan=srgan,\n",
        "    training_data=training_data,\n",
        "    epochs=epochs,\n",
        "    batch_size=batch_size,\n",
        "    generator_loss_fn=generator_loss,\n",
        "    generator_n=gen_n,\n",
        "    discriminator_loss_fn=discriminator_loss,\n",
        "    discriminator_n=dis_n,\n",
        "    history=history,\n",
        ")"
      ]
    },
    {
      "cell_type": "code",
      "execution_count": null,
      "metadata": {},
      "outputs": [],
      "source": [
        "architecture = generator.to_json()\n",
        "with open(\"./results/saved-models/srgan4x_2/architecture.json\", \"w\") as f:\n",
        "    f.write(architecture)\n",
        "generator.save_weights(\"./results/saved-models/srgan4x_2/generator.h5\")"
      ]
    },
    {
      "cell_type": "code",
      "execution_count": null,
      "metadata": {},
      "outputs": [],
      "source": [
        "history.plot({\n",
        "    \"g_loss\": \"Generator Loss\",\n",
        "    \"val_g_loss\": \"Validation Generator Loss\"\n",
        "})\n",
        "history.plot({\n",
        "    \"d_loss\": \"Discriminator Loss\",\n",
        "    \"val_d_loss\": \"Validation Discriminator Loss\"\n",
        "})\n",
        "history.plot({\n",
        "    \"g_accuracy\": \"Generator Accuracy\",\n",
        "    \"val_g_accuracy\": \"Validation Generator Accuracy\"\n",
        "})\n",
        "history.plot({\n",
        "    \"d_accuracy\": \"Discriminator Accuracy\",\n",
        "    \"val_d_accuracy\": \"Validation Discriminator Accuracy\"\n",
        "})"
      ]
    }
  ],
  "metadata": {
    "kernelspec": {
      "display_name": "Python 3",
      "language": "python",
      "name": "python3"
    },
    "language_info": {
      "codemirror_mode": {
        "name": "ipython",
        "version": 3
      },
      "file_extension": ".py",
      "mimetype": "text/x-python",
      "name": "python",
      "nbconvert_exporter": "python",
      "pygments_lexer": "ipython3",
      "version": "3.10.9"
    },
    "orig_nbformat": 4,
    "vscode": {
      "interpreter": {
        "hash": "454bfa2268f60655e0471403332de354819c117d45f42e0939fe7b364f99b4e7"
      }
    }
  },
  "nbformat": 4,
  "nbformat_minor": 2
}
