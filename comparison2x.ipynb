{
  "cells": [
    {
      "cell_type": "code",
      "execution_count": 1,
      "metadata": {},
      "outputs": [],
      "source": [
        "import tensorflow as tf\n",
        "import numpy as np\n",
        "\n",
        "\n",
        "def round(x):\n",
        "    return \"%.2f\" % np.round(x.numpy(), 2)\n",
        "\n",
        "\n",
        "def SSIM(a, b):\n",
        "    return round(tf.image.ssim(a, b, 255))\n",
        "\n",
        "\n",
        "def PSNR(a, b):\n",
        "    return round(tf.image.psnr(a, b, 255))"
      ]
    },
    {
      "cell_type": "code",
      "execution_count": 2,
      "metadata": {},
      "outputs": [
        {
          "name": "stdout",
          "output_type": "stream",
          "text": [
            "Metal device set to: Apple M1\n",
            "\n",
            "systemMemory: 8.00 GB\n",
            "maxCacheSize: 2.67 GB\n",
            "\n",
            "WARNING:tensorflow:From /Users/ognjenbjeletic/.pyenv/versions/3.10.9/lib/python3.10/site-packages/tensorflow/python/autograph/pyct/static_analysis/liveness.py:83: Analyzer.lamba_check (from tensorflow.python.autograph.pyct.static_analysis.liveness) is deprecated and will be removed after 2023-09-23.\n",
            "Instructions for updating:\n",
            "Lambda fuctions will be no more assumed to be used in the statement where they are used, or at least in the same block. https://github.com/tensorflow/tensorflow/issues/56089\n"
          ]
        },
        {
          "name": "stderr",
          "output_type": "stream",
          "text": [
            "2023-02-09 16:37:10.868007: I tensorflow/core/common_runtime/pluggable_device/pluggable_device_factory.cc:306] Could not identify NUMA node of platform GPU ID 0, defaulting to 0. Your kernel may not have been built with NUMA support.\n",
            "2023-02-09 16:37:10.868032: I tensorflow/core/common_runtime/pluggable_device/pluggable_device_factory.cc:272] Created TensorFlow device (/job:localhost/replica:0/task:0/device:GPU:0 with 0 MB memory) -> physical PluggableDevice (device: 0, name: METAL, pci bus id: <undefined>)\n"
          ]
        }
      ],
      "source": [
        "# Get validation images\n",
        "\n",
        "from dlsr import *\n",
        "from dlsr.data import DIV2K\n",
        "\n",
        "# from PIL import Image\n",
        "\n",
        "image_size = 400\n",
        "loader = DIV2K(type=\"valid\")\n",
        "ds = loader.dataset(\n",
        "    batch_size=1, random_transform=False, crop_images=True, image_size=image_size\n",
        ")\n",
        "\n",
        "hr = ds.map(lambda a, b: b).take(7).cache()\n",
        "lr = ds.map(lambda a, b: a).take(7).cache()\n",
        "\n",
        "upscaled = {}"
      ]
    },
    {
      "cell_type": "code",
      "execution_count": 3,
      "metadata": {},
      "outputs": [
        {
          "name": "stderr",
          "output_type": "stream",
          "text": [
            "2023-02-09 16:37:12.167893: W tensorflow/tsl/platform/profile_utils/cpu_utils.cc:128] Failed to get CPU frequency: 0 Hz\n",
            "2023-02-09 16:37:12.395018: I tensorflow/core/grappler/optimizers/custom_graph_optimizer_registry.cc:114] Plugin optimizer for device_type GPU is enabled.\n"
          ]
        },
        {
          "name": "stdout",
          "output_type": "stream",
          "text": [
            "1/7 [===>..........................] - ETA: 5s"
          ]
        },
        {
          "name": "stderr",
          "output_type": "stream",
          "text": [
            "2023-02-09 16:37:12.873799: W tensorflow/core/kernels/data/cache_dataset_ops.cc:856] The calling iterator did not fully read the dataset being cached. In order to avoid unexpected truncation of the dataset, the partially cached contents of the dataset  will be discarded. This can happen if you have an input pipeline similar to `dataset.cache().take(k).repeat()`. You should use `dataset.take(k).cache().repeat()` instead.\n",
            "2023-02-09 16:37:12.901070: W tensorflow/core/kernels/data/cache_dataset_ops.cc:856] The calling iterator did not fully read the dataset being cached. In order to avoid unexpected truncation of the dataset, the partially cached contents of the dataset  will be discarded. This can happen if you have an input pipeline similar to `dataset.cache().take(k).repeat()`. You should use `dataset.take(k).cache().repeat()` instead.\n"
          ]
        },
        {
          "name": "stdout",
          "output_type": "stream",
          "text": [
            "7/7 [==============================] - 2s 203ms/step\n"
          ]
        },
        {
          "name": "stderr",
          "output_type": "stream",
          "text": [
            "2023-02-09 16:37:15.421443: I tensorflow/core/grappler/optimizers/custom_graph_optimizer_registry.cc:114] Plugin optimizer for device_type GPU is enabled.\n"
          ]
        },
        {
          "name": "stdout",
          "output_type": "stream",
          "text": [
            "7/7 [==============================] - 2s 194ms/step\n"
          ]
        }
      ],
      "source": [
        "# # Upscale with my SRResNet\n",
        "\n",
        "model = tf.keras.models.load_model(\n",
        "    \"./results/saved-models/srres2x.h5\",\n",
        ")\n",
        "\n",
        "upscaled[\"srres2x\"] = upscale(model, lr)\n",
        "\n",
        "# Upscale with my SRGAN\n",
        "\n",
        "# load json and create model\n",
        "json_file = open('./results/saved-models/srgan2x/architecture.json', 'r')\n",
        "loaded_model_json = json_file.read()\n",
        "json_file.close()\n",
        "model = tf.keras.models.model_from_json(loaded_model_json)\n",
        "# load weights into new model\n",
        "model.load_weights(\"./results/saved-models/srgan2x/generator.h5\")\n",
        "\n",
        "upscaled[\"srgan2x\"] = upscale(model, lr)"
      ]
    },
    {
      "cell_type": "code",
      "execution_count": 4,
      "metadata": {},
      "outputs": [],
      "source": [
        "# Upscale with Interploation-Based methods\n",
        "\n",
        "lr_transformed = [np.uint8(x)[0] for x in lr]\n",
        "\n",
        "new_size = [image_size, image_size]\n",
        "\n",
        "algs = [\n",
        "    tf.image.ResizeMethod.NEAREST_NEIGHBOR,\n",
        "    tf.image.ResizeMethod.BILINEAR,\n",
        "    tf.image.ResizeMethod.BICUBIC,\n",
        "    tf.image.ResizeMethod.LANCZOS3,\n",
        "]\n",
        "\n",
        "for alg in algs:\n",
        "    upscaled[alg] = tf.image.resize(\n",
        "        lr_transformed,\n",
        "        new_size,\n",
        "        method=alg,\n",
        "    )"
      ]
    },
    {
      "cell_type": "code",
      "execution_count": 5,
      "metadata": {},
      "outputs": [
        {
          "name": "stderr",
          "output_type": "stream",
          "text": [
            "2023-02-09 16:37:18.714048: W tensorflow/core/kernels/data/cache_dataset_ops.cc:856] The calling iterator did not fully read the dataset being cached. In order to avoid unexpected truncation of the dataset, the partially cached contents of the dataset  will be discarded. This can happen if you have an input pipeline similar to `dataset.cache().take(k).repeat()`. You should use `dataset.take(k).cache().repeat()` instead.\n",
            "2023-02-09 16:37:18.719004: W tensorflow/core/kernels/data/cache_dataset_ops.cc:856] The calling iterator did not fully read the dataset being cached. In order to avoid unexpected truncation of the dataset, the partially cached contents of the dataset  will be discarded. This can happen if you have an input pipeline similar to `dataset.cache().take(k).repeat()`. You should use `dataset.take(k).cache().repeat()` instead.\n"
          ]
        },
        {
          "name": "stdout",
          "output_type": "stream",
          "text": [
            "-------------------------------------\n",
            "| img0 | srres2x    | SSIM = 0.99   |\n",
            "|      |            | PSNR = 44.88  |\n",
            "|      | srgan2x    | SSIM = 0.98   |\n",
            "|      |            | PSNR = 42.13  |\n",
            "|      | nearest    | SSIM = 0.95   |\n",
            "|      |            | PSNR = 36.26  |\n",
            "|      | bilinear   | SSIM = 0.98   |\n",
            "|      |            | PSNR = 40.50  |\n",
            "|      | bicubic    | SSIM = 0.99   |\n",
            "|      |            | PSNR = 42.75  |\n",
            "|      | lanczos3   | SSIM = 0.99   |\n",
            "|      |            | PSNR = 43.47  |\n",
            "-------------------------------------\n",
            "| img1 | srres2x    | SSIM = 0.97   |\n",
            "|      |            | PSNR = 42.42  |\n",
            "|      | srgan2x    | SSIM = 0.93   |\n",
            "|      |            | PSNR = 38.78  |\n",
            "|      | nearest    | SSIM = 0.94   |\n",
            "|      |            | PSNR = 37.43  |\n",
            "|      | bilinear   | SSIM = 0.95   |\n",
            "|      |            | PSNR = 38.74  |\n",
            "|      | bicubic    | SSIM = 0.96   |\n",
            "|      |            | PSNR = 39.01  |\n",
            "|      | lanczos3   | SSIM = 0.96   |\n",
            "|      |            | PSNR = 37.32  |\n",
            "-------------------------------------\n",
            "| img2 | srres2x    | SSIM = 0.99   |\n",
            "|      |            | PSNR = 49.67  |\n",
            "|      | srgan2x    | SSIM = 0.98   |\n",
            "|      |            | PSNR = 46.31  |\n",
            "|      | nearest    | SSIM = 0.99   |\n",
            "|      |            | PSNR = 48.56  |\n",
            "|      | bilinear   | SSIM = 0.99   |\n",
            "|      |            | PSNR = 48.42  |\n",
            "|      | bicubic    | SSIM = 0.99   |\n",
            "|      |            | PSNR = 48.55  |\n",
            "|      | lanczos3   | SSIM = 0.99   |\n",
            "|      |            | PSNR = 48.65  |\n",
            "-------------------------------------\n",
            "| img3 | srres2x    | SSIM = 0.97   |\n",
            "|      |            | PSNR = 35.03  |\n",
            "|      | srgan2x    | SSIM = 0.95   |\n",
            "|      |            | PSNR = 32.92  |\n",
            "|      | nearest    | SSIM = 0.91   |\n",
            "|      |            | PSNR = 28.25  |\n",
            "|      | bilinear   | SSIM = 0.91   |\n",
            "|      |            | PSNR = 29.20  |\n",
            "|      | bicubic    | SSIM = 0.91   |\n",
            "|      |            | PSNR = 23.89  |\n",
            "|      | lanczos3   | SSIM = 0.92   |\n",
            "|      |            | PSNR = 22.87  |\n",
            "-------------------------------------\n",
            "| img4 | srres2x    | SSIM = 0.89   |\n",
            "|      |            | PSNR = 36.60  |\n",
            "|      | srgan2x    | SSIM = 0.76   |\n",
            "|      |            | PSNR = 34.02  |\n",
            "|      | nearest    | SSIM = 0.87   |\n",
            "|      |            | PSNR = 35.77  |\n",
            "|      | bilinear   | SSIM = 0.86   |\n",
            "|      |            | PSNR = 35.78  |\n",
            "|      | bicubic    | SSIM = 0.87   |\n",
            "|      |            | PSNR = 36.03  |\n",
            "|      | lanczos3   | SSIM = 0.87   |\n",
            "|      |            | PSNR = 35.57  |\n",
            "-------------------------------------\n",
            "| img5 | srres2x    | SSIM = 0.99   |\n",
            "|      |            | PSNR = 47.57  |\n",
            "|      | srgan2x    | SSIM = 0.98   |\n",
            "|      |            | PSNR = 44.30  |\n",
            "|      | nearest    | SSIM = 0.98   |\n",
            "|      |            | PSNR = 41.25  |\n",
            "|      | bilinear   | SSIM = 0.99   |\n",
            "|      |            | PSNR = 43.64  |\n",
            "|      | bicubic    | SSIM = 0.99   |\n",
            "|      |            | PSNR = 44.95  |\n",
            "|      | lanczos3   | SSIM = 0.99   |\n",
            "|      |            | PSNR = 45.46  |\n",
            "-------------------------------------\n",
            "| img6 | srres2x    | SSIM = 0.82   |\n",
            "|      |            | PSNR = 25.76  |\n",
            "|      | srgan2x    | SSIM = 0.73   |\n",
            "|      |            | PSNR = 23.67  |\n",
            "|      | nearest    | SSIM = 0.72   |\n",
            "|      |            | PSNR = 23.69  |\n",
            "|      | bilinear   | SSIM = 0.69   |\n",
            "|      |            | PSNR = 23.65  |\n",
            "|      | bicubic    | SSIM = 0.73   |\n",
            "|      |            | PSNR = 23.57  |\n",
            "|      | lanczos3   | SSIM = 0.73   |\n",
            "|      |            | PSNR = 22.75  |\n"
          ]
        }
      ],
      "source": [
        "# save LR images\n",
        "for i, x in enumerate(lr):\n",
        "    tf.keras.utils.save_img(path=f\"results/comparison2x/lr/image{i}.png\", x=x[0], file_format=\"png\")\n",
        "\n",
        "# save HR images\n",
        "for i, x in enumerate(hr):\n",
        "    tf.keras.utils.save_img(path=f\"results/comparison2x/hr/image{i}.png\", x=x[0], file_format=\"png\")\n",
        "\n",
        "# save upscaled images\n",
        "for key in upscaled.keys():\n",
        "    for i, x in enumerate(upscaled[key]):\n",
        "        tf.keras.utils.save_img(\n",
        "            path=f\"results/comparison2x/{key}/image{i}.png\", x=x, file_format=\"png\"\n",
        "        )\n",
        "\n",
        "# calculate SSIM/PSNR\n",
        "for i, x in enumerate(hr):\n",
        "    real = np.uint8(x)[0]\n",
        "    print(\"-------------------------------------\")\n",
        "    for j, key in enumerate(upscaled.keys()):\n",
        "        fake = np.uint8(upscaled[key][i])\n",
        "        print(\n",
        "            \"| {:<4} | {:<10} | {:<4} = {:<6} |\".format(\n",
        "                f\"img{i}\" if j == 0 else \"\", f\"{key}\", \"SSIM\", SSIM(real, fake)\n",
        "            )\n",
        "        )\n",
        "        print(\"| {:<4} | {:<10} | {:<4} = {:<6} |\".format(\"\", \"\", \"PSNR\", PSNR(real, fake)))"
      ]
    }
  ],
  "metadata": {
    "kernelspec": {
      "display_name": "Python 3",
      "language": "python",
      "name": "python3"
    },
    "language_info": {
      "codemirror_mode": {
        "name": "ipython",
        "version": 3
      },
      "file_extension": ".py",
      "mimetype": "text/x-python",
      "name": "python",
      "nbconvert_exporter": "python",
      "pygments_lexer": "ipython3",
      "version": "3.10.9"
    },
    "orig_nbformat": 4,
    "vscode": {
      "interpreter": {
        "hash": "454bfa2268f60655e0471403332de354819c117d45f42e0939fe7b364f99b4e7"
      }
    }
  },
  "nbformat": 4,
  "nbformat_minor": 2
}
