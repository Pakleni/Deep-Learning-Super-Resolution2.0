{
 "cells": [
  {
   "cell_type": "code",
   "execution_count": null,
   "metadata": {},
   "outputs": [],
   "source": [
    "from dlsr import *\n",
    "from PIL import Image\n",
    "import matplotlib.pyplot as plt\n",
    "\n",
    "helpers.config(True, True)"
   ]
  },
  {
   "cell_type": "code",
   "execution_count": null,
   "metadata": {},
   "outputs": [],
   "source": [
    "def load(alg):\n",
    "    ds = helpers.dataset_from_folder(f\"results/set14/{alg}\")\n",
    "    return [x[0] for x in ds]\n",
    "\n",
    "\n",
    "algs = [\n",
    "    \"hr\",\n",
    "    \"bicubic\",\n",
    "    \"bilinear\",\n",
    "    \"lanczos3\",\n",
    "    \"nearest\",\n",
    "    \"srgan4x\",\n",
    "    \"srres4x\",\n",
    "]\n",
    "\n",
    "images = {alg: load(alg) for alg in algs}\n",
    "\n",
    "# used to crop segments of images\n",
    "def crop(img, x, y, w, h):\n",
    "    return img[y:y+h, x:x+w]"
   ]
  },
  {
   "cell_type": "code",
   "execution_count": null,
   "metadata": {},
   "outputs": [],
   "source": [
    "# location of the eye in the monkey image\n",
    "monkey_eye = [128, 0, 100, 100]\n",
    "\n",
    "for alg in algs:\n",
    "    image = images[alg][0]\n",
    "    # crop image\n",
    "    image = crop(image, *monkey_eye)\n",
    "\n",
    "    # plot image\n",
    "    plt.xlabel(alg)\n",
    "    plt.imshow(image)\n",
    "    plt.show()\n",
    "    # save image\n",
    "    Image.fromarray(image.numpy()).save(f\"results/zoom/monkey_eye/{alg}.png\")\n"
   ]
  },
  {
   "cell_type": "code",
   "execution_count": null,
   "metadata": {},
   "outputs": [],
   "source": [
    "headdress = [50, 70, 128, 128]\n",
    "for alg in algs:\n",
    "    image = images[alg][8]\n",
    "    # crop image\n",
    "    image = crop(image, *headdress)\n",
    "\n",
    "    # plot image\n",
    "    plt.xlabel(alg)\n",
    "    plt.imshow(image)\n",
    "    plt.show()\n",
    "    # save image\n",
    "    Image.fromarray(image.numpy()).save(f\"results/zoom/headdress/{alg}.png\")"
   ]
  }
 ],
 "metadata": {
  "kernelspec": {
   "display_name": "Python 3",
   "language": "python",
   "name": "python3"
  },
  "language_info": {
   "codemirror_mode": {
    "name": "ipython",
    "version": 3
   },
   "file_extension": ".py",
   "mimetype": "text/x-python",
   "name": "python",
   "nbconvert_exporter": "python",
   "pygments_lexer": "ipython3",
   "version": "3.10.9"
  },
  "orig_nbformat": 4,
  "vscode": {
   "interpreter": {
    "hash": "454bfa2268f60655e0471403332de354819c117d45f42e0939fe7b364f99b4e7"
   }
  }
 },
 "nbformat": 4,
 "nbformat_minor": 2
}
