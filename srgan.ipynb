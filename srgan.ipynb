{
  "cells": [
    {
      "cell_type": "code",
      "execution_count": null,
      "metadata": {},
      "outputs": [],
      "source": [
        "from dlsr import *\n",
        "\n",
        "helpers.config(True)"
      ]
    },
    {
      "cell_type": "code",
      "execution_count": null,
      "metadata": {},
      "outputs": [],
      "source": [
        "image_size = 32\n",
        "batch_size = 128\n",
        "pre_train_batch_size = 256\n",
        "training_data_size = 6400\n",
        "validation_data_size = 128\n",
        "epochs = 2000\n",
        "pre_train_epochs = 200"
      ]
    },
    {
      "cell_type": "code",
      "execution_count": null,
      "metadata": {},
      "outputs": [],
      "source": [
        "training_data = helpers.get_training_data(\n",
        "    num=training_data_size, valid_num=validation_data_size, image_size=image_size\n",
        ")"
      ]
    },
    {
      "cell_type": "code",
      "execution_count": null,
      "metadata": {},
      "outputs": [],
      "source": [
        "discriminator = models.discriminator(image_size=image_size)\n",
        "generator = models.generator()\n",
        "gen_his, dis_his = train_gan(\n",
        "    discriminator=discriminator,\n",
        "    generator=generator,\n",
        "    training_data=training_data,\n",
        "    epochs=epochs//2,\n",
        "    discriminator_batch_size=batch_size,\n",
        "    discriminator_n=1e-4,\n",
        "    generator_loss_fn=losses.get_srgan_loss(discriminator)[\"srgan_loss\"],\n",
        "    generator_batch_size=batch_size,\n",
        "    generator_n=1e-4,\n",
        "    pre_train=True,\n",
        "    pre_train_epochs=pre_train_epochs,\n",
        "    pre_train_batch_size=pre_train_batch_size\n",
        ")\n",
        "\n",
        "train_gan(\n",
        "    discriminator=discriminator,\n",
        "    generator=generator,\n",
        "    training_data=training_data,\n",
        "    epochs=epochs//2,\n",
        "    discriminator_batch_size=batch_size,\n",
        "    discriminator_n=1e-5,\n",
        "    generator_loss_fn=losses.get_srgan_loss(discriminator)[\"srgan_loss\"],\n",
        "    generator_batch_size=batch_size,\n",
        "    generator_n=1e-5,\n",
        "    gen_history=gen_his,\n",
        "    dis_history=dis_his\n",
        ")"
      ]
    },
    {
      "cell_type": "code",
      "execution_count": null,
      "metadata": {},
      "outputs": [],
      "source": [
        "generator.save(\"./saved-models/srgan_vgg/generator.h5\")\n",
        "discriminator.save(\"./saved-models/srgan_vgg/discriminator.h5\")"
      ]
    },
    {
      "cell_type": "code",
      "execution_count": null,
      "metadata": {},
      "outputs": [],
      "source": [
        "helpers.plot_history(gen_his)\n",
        "helpers.plot_history(dis_his)"
      ]
    }
  ],
  "metadata": {
    "kernelspec": {
      "display_name": "Python 3.10.9 64-bit ('3.10.9')",
      "language": "python",
      "name": "python3"
    },
    "language_info": {
      "codemirror_mode": {
        "name": "ipython",
        "version": 3
      },
      "file_extension": ".py",
      "mimetype": "text/x-python",
      "name": "python",
      "nbconvert_exporter": "python",
      "pygments_lexer": "ipython3",
      "version": "3.10.9"
    },
    "orig_nbformat": 4,
    "vscode": {
      "interpreter": {
        "hash": "454bfa2268f60655e0471403332de354819c117d45f42e0939fe7b364f99b4e7"
      }
    }
  },
  "nbformat": 4,
  "nbformat_minor": 2
}
