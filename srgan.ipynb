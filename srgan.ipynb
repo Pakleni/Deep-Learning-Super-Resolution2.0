{
 "cells": [
  {
   "cell_type": "code",
   "execution_count": null,
   "metadata": {},
   "outputs": [],
   "source": [
    "# this file here is trying to use SSIM with SRGAN and I have not been able to make it work better then SSIM\n",
    "from dlsr import *\n",
    "import numpy as np\n",
    "import os\n",
    "from PIL import Image\n",
    "from dlsr.data import DIV2K"
   ]
  },
  {
   "cell_type": "code",
   "execution_count": null,
   "metadata": {},
   "outputs": [],
   "source": [
    "image_size = 32\n",
    "batch_size = 128\n",
    "training_data_size = 6400\n",
    "validation_data_size = 128\n",
    "num_to_predict = 10\n",
    "predict_size = 192\n",
    "\n",
    "output_path = \"./output/temp\""
   ]
  },
  {
   "cell_type": "code",
   "execution_count": null,
   "metadata": {},
   "outputs": [],
   "source": [
    "from dlsr.data.div2k import random_crop\n",
    "\n",
    "\n",
    "training_data = helpers.get_training_data(\n",
    "    num=training_data_size, valid_num=validation_data_size, image_size=image_size\n",
    ")\n",
    "\n",
    "callback_ds = DIV2K(type=\"valid\").dataset(batch_size=1, random_transform=False, crop_images=True, image_size=predict_size)\n",
    "callback_ds = callback_ds.map(lambda a, b: a)\n",
    "callback_ds = callback_ds.take(num_to_predict)"
   ]
  },
  {
   "cell_type": "code",
   "execution_count": null,
   "metadata": {},
   "outputs": [],
   "source": [
    "def callback(generator, i):\n",
    "    directory = f\"{output_path}/{i}\"\n",
    "    try:\n",
    "        os.makedirs(directory)\n",
    "    except FileExistsError:\n",
    "        # directory already exists\n",
    "        pass\n",
    "\n",
    "    generator.save(f\"{directory}/generator.h5\")\n",
    "\n",
    "    upscaled = upscale(generator, callback_ds, batch_size=num_to_predict)\n",
    "\n",
    "    for i , x in enumerate(upscaled):\n",
    "        im = Image.fromarray(np.uint8(x))\n",
    "        im.save(os.path.join(directory, f\"converted{i}.png\"), format=\"png\")"
   ]
  },
  {
   "cell_type": "code",
   "execution_count": null,
   "metadata": {},
   "outputs": [],
   "source": [
    "try:\n",
    "    os.makedirs(output_path)\n",
    "except FileExistsError:\n",
    "    # directory already exists\n",
    "    pass\n",
    "\n",
    "discriminator = models.discriminator(image_size=image_size)\n",
    "generator = models.basic()\n",
    "generator, gen_his, discriminator, dis_his = train_gan(\n",
    "    discriminator=discriminator,\n",
    "    generator=generator,\n",
    "    training_data=training_data,\n",
    "    epochs=200,\n",
    "    discriminator_epochs=25,\n",
    "    discriminator_patience=5,\n",
    "    discriminator_batch_size=batch_size,\n",
    "    discriminator_n=2e-6,\n",
    "    generator_epochs=25,\n",
    "    generator_loss_fn=losses.get_srgan_loss(discriminator)[\"srgan_ssim_loss\"],\n",
    "    generator_patience=5,\n",
    "    generator_batch_size=batch_size,\n",
    "    generator_n=2e-5,\n",
    "    pre_train_epochs=200,\n",
    "    pre_train=True,\n",
    "    pre_train_loss_fn=losses.ssim_loss,\n",
    "    epoch_start_callback=callback\n",
    ")"
   ]
  },
  {
   "cell_type": "code",
   "execution_count": null,
   "metadata": {},
   "outputs": [],
   "source": [
    "generator.save(\"./saved-models/srgan/generator.h5\")\n",
    "discriminator.save(\"./saved-models/srgan/discriminator.h5\")"
   ]
  },
  {
   "cell_type": "code",
   "execution_count": null,
   "metadata": {},
   "outputs": [],
   "source": [
    "helpers.plot_history(gen_his)\n",
    "helpers.plot_history(dis_his)"
   ]
  }
 ],
 "metadata": {
  "kernelspec": {
   "display_name": "Python 3.10.5 64-bit",
   "language": "python",
   "name": "python3"
  },
  "language_info": {
   "codemirror_mode": {
    "name": "ipython",
    "version": 3
   },
   "file_extension": ".py",
   "mimetype": "text/x-python",
   "name": "python",
   "nbconvert_exporter": "python",
   "pygments_lexer": "ipython3",
   "version": "3.10.5"
  },
  "orig_nbformat": 4,
  "vscode": {
   "interpreter": {
    "hash": "369f2c481f4da34e4445cda3fffd2e751bd1c4d706f27375911949ba6bb62e1c"
   }
  }
 },
 "nbformat": 4,
 "nbformat_minor": 2
}
